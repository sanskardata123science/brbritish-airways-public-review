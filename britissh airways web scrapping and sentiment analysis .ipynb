{
 "cells": [
  {
   "cell_type": "code",
   "execution_count": 1,
   "id": "5b91ce3c",
   "metadata": {},
   "outputs": [],
   "source": [
    "import requests\n",
    "from bs4 import BeautifulSoup\n",
    "import pandas as pd"
   ]
  },
  {
   "cell_type": "code",
   "execution_count": 2,
   "id": "b47744d3",
   "metadata": {},
   "outputs": [
    {
     "name": "stdout",
     "output_type": "stream",
     "text": [
      "Scraping page 1\n",
      "   ---> 100 total reviews\n",
      "Scraping page 2\n",
      "   ---> 200 total reviews\n",
      "Scraping page 3\n",
      "   ---> 300 total reviews\n",
      "Scraping page 4\n",
      "   ---> 400 total reviews\n",
      "Scraping page 5\n",
      "   ---> 500 total reviews\n",
      "Scraping page 6\n",
      "   ---> 600 total reviews\n",
      "Scraping page 7\n",
      "   ---> 700 total reviews\n",
      "Scraping page 8\n",
      "   ---> 800 total reviews\n",
      "Scraping page 9\n",
      "   ---> 900 total reviews\n",
      "Scraping page 10\n",
      "   ---> 1000 total reviews\n"
     ]
    }
   ],
   "source": [
    "base_url = \"https://www.airlinequality.com/airline-reviews/british-airways\"\n",
    "pages = 10\n",
    "page_size = 100\n",
    "reviews = []\n",
    "for i in range(1, pages + 1):\n",
    "    print(f\"Scraping page {i}\")\n",
    "    url = f\"{base_url}/page/{i}/?sortby=post_date%3ADesc&pagesize={page_size}\"\n",
    "    response = requests.get(url)   \n",
    "    content = response.content\n",
    "    parsed_content = BeautifulSoup(content, 'html.parser')\n",
    "    for para in parsed_content.find_all(\"div\", {\"class\": \"text_content\"}):\n",
    "        reviews.append(para.get_text())\n",
    "    print(f\"   ---> {len(reviews)} total reviews\")\n",
    "        \n",
    "        \n"
   ]
  },
  {
   "cell_type": "code",
   "execution_count": 3,
   "id": "f1e8cd9f",
   "metadata": {},
   "outputs": [
    {
     "data": {
      "text/html": [
       "<div>\n",
       "<style scoped>\n",
       "    .dataframe tbody tr th:only-of-type {\n",
       "        vertical-align: middle;\n",
       "    }\n",
       "\n",
       "    .dataframe tbody tr th {\n",
       "        vertical-align: top;\n",
       "    }\n",
       "\n",
       "    .dataframe thead th {\n",
       "        text-align: right;\n",
       "    }\n",
       "</style>\n",
       "<table border=\"1\" class=\"dataframe\">\n",
       "  <thead>\n",
       "    <tr style=\"text-align: right;\">\n",
       "      <th></th>\n",
       "      <th>reviews</th>\n",
       "    </tr>\n",
       "  </thead>\n",
       "  <tbody>\n",
       "    <tr>\n",
       "      <th>0</th>\n",
       "      <td>✅ Trip Verified | An airline that lives in the...</td>\n",
       "    </tr>\n",
       "    <tr>\n",
       "      <th>1</th>\n",
       "      <td>✅ Trip Verified |  Check-in Desk rude and dism...</td>\n",
       "    </tr>\n",
       "    <tr>\n",
       "      <th>2</th>\n",
       "      <td>✅ Trip Verified | I chose British Airways espe...</td>\n",
       "    </tr>\n",
       "    <tr>\n",
       "      <th>3</th>\n",
       "      <td>Not Verified | I booked Premium Economy from I...</td>\n",
       "    </tr>\n",
       "    <tr>\n",
       "      <th>4</th>\n",
       "      <td>✅ Trip Verified | A simple story with an unfor...</td>\n",
       "    </tr>\n",
       "  </tbody>\n",
       "</table>\n",
       "</div>"
      ],
      "text/plain": [
       "                                             reviews\n",
       "0  ✅ Trip Verified | An airline that lives in the...\n",
       "1  ✅ Trip Verified |  Check-in Desk rude and dism...\n",
       "2  ✅ Trip Verified | I chose British Airways espe...\n",
       "3  Not Verified | I booked Premium Economy from I...\n",
       "4  ✅ Trip Verified | A simple story with an unfor..."
      ]
     },
     "execution_count": 3,
     "metadata": {},
     "output_type": "execute_result"
    }
   ],
   "source": [
    "df = pd.DataFrame()\n",
    "df[\"reviews\"] = reviews\n",
    "df.head()"
   ]
  },
  {
   "cell_type": "code",
   "execution_count": 4,
   "id": "5546d407",
   "metadata": {},
   "outputs": [],
   "source": [
    "df['reviews'] = df.reviews.str.split('|',expand=True)[1]"
   ]
  },
  {
   "cell_type": "code",
   "execution_count": 5,
   "id": "9c702781",
   "metadata": {},
   "outputs": [
    {
     "data": {
      "text/plain": [
       "0     An airline that lives in their past glory and...\n",
       "1      Check-in Desk rude and dismissive. Flight la...\n",
       "2     I chose British Airways especially because I ...\n",
       "3     I booked Premium Economy from INV to LAX (via...\n",
       "4     A simple story with an unfortunate outcome th...\n",
       "Name: reviews, dtype: object"
      ]
     },
     "execution_count": 5,
     "metadata": {},
     "output_type": "execute_result"
    }
   ],
   "source": [
    "df['reviews'].head()"
   ]
  },
  {
   "cell_type": "code",
   "execution_count": 6,
   "id": "21027c00",
   "metadata": {},
   "outputs": [],
   "source": [
    "import re"
   ]
  },
  {
   "cell_type": "code",
   "execution_count": 7,
   "id": "18929fca",
   "metadata": {},
   "outputs": [],
   "source": [
    "def clean(text):\n",
    "    text = re.sub('[^A-Za-z]+', ' ', str(text))\n",
    "    return text\n"
   ]
  },
  {
   "cell_type": "code",
   "execution_count": 8,
   "id": "5b8ec0a0",
   "metadata": {},
   "outputs": [],
   "source": [
    "df['reviews'] = df['reviews'].apply(clean)"
   ]
  },
  {
   "cell_type": "code",
   "execution_count": 9,
   "id": "309ae4a5",
   "metadata": {},
   "outputs": [
    {
     "data": {
      "text/html": [
       "<div>\n",
       "<style scoped>\n",
       "    .dataframe tbody tr th:only-of-type {\n",
       "        vertical-align: middle;\n",
       "    }\n",
       "\n",
       "    .dataframe tbody tr th {\n",
       "        vertical-align: top;\n",
       "    }\n",
       "\n",
       "    .dataframe thead th {\n",
       "        text-align: right;\n",
       "    }\n",
       "</style>\n",
       "<table border=\"1\" class=\"dataframe\">\n",
       "  <thead>\n",
       "    <tr style=\"text-align: right;\">\n",
       "      <th></th>\n",
       "      <th>reviews</th>\n",
       "    </tr>\n",
       "  </thead>\n",
       "  <tbody>\n",
       "    <tr>\n",
       "      <th>0</th>\n",
       "      <td>An airline that lives in their past glory and...</td>\n",
       "    </tr>\n",
       "    <tr>\n",
       "      <th>1</th>\n",
       "      <td>Check in Desk rude and dismissive Flight late...</td>\n",
       "    </tr>\n",
       "    <tr>\n",
       "      <th>2</th>\n",
       "      <td>I chose British Airways especially because I ...</td>\n",
       "    </tr>\n",
       "    <tr>\n",
       "      <th>3</th>\n",
       "      <td>I booked Premium Economy from INV to LAX via ...</td>\n",
       "    </tr>\n",
       "    <tr>\n",
       "      <th>4</th>\n",
       "      <td>A simple story with an unfortunate outcome th...</td>\n",
       "    </tr>\n",
       "  </tbody>\n",
       "</table>\n",
       "</div>"
      ],
      "text/plain": [
       "                                             reviews\n",
       "0   An airline that lives in their past glory and...\n",
       "1   Check in Desk rude and dismissive Flight late...\n",
       "2   I chose British Airways especially because I ...\n",
       "3   I booked Premium Economy from INV to LAX via ...\n",
       "4   A simple story with an unfortunate outcome th..."
      ]
     },
     "execution_count": 9,
     "metadata": {},
     "output_type": "execute_result"
    }
   ],
   "source": [
    "df.head()"
   ]
  },
  {
   "cell_type": "code",
   "execution_count": 10,
   "id": "d483a5ed",
   "metadata": {},
   "outputs": [],
   "source": [
    "from nltk.tokenize import word_tokenize\n",
    "from nltk import pos_tag"
   ]
  },
  {
   "cell_type": "code",
   "execution_count": 14,
   "id": "6ad603e8",
   "metadata": {},
   "outputs": [
    {
     "name": "stderr",
     "output_type": "stream",
     "text": [
      "[nltk_data] Error loading omw-1.4: <urlopen error [WinError 10060] A\n",
      "[nltk_data]     connection attempt failed because the connected party\n",
      "[nltk_data]     did not properly respond after a period of time, or\n",
      "[nltk_data]     established connection failed because connected host\n",
      "[nltk_data]     has failed to respond>\n",
      "[nltk_data] Error loading averaged_perceptron_tagger: <urlopen error\n",
      "[nltk_data]     [WinError 10060] A connection attempt failed because\n",
      "[nltk_data]     the connected party did not properly respond after a\n",
      "[nltk_data]     period of time, or established connection failed\n",
      "[nltk_data]     because connected host has failed to respond>\n"
     ]
    },
    {
     "data": {
      "text/plain": [
       "False"
      ]
     },
     "execution_count": 14,
     "metadata": {},
     "output_type": "execute_result"
    }
   ],
   "source": [
    "nltk.download('omw-1.4')\n",
    "nltk.download('averaged_perceptron_tagger')"
   ]
  },
  {
   "cell_type": "code",
   "execution_count": 13,
   "id": "aa3ca26e",
   "metadata": {},
   "outputs": [],
   "source": [
    "import nltk"
   ]
  },
  {
   "cell_type": "code",
   "execution_count": 18,
   "id": "57cff6d7",
   "metadata": {},
   "outputs": [],
   "source": [
    "from nltk.corpus import stopwords"
   ]
  },
  {
   "cell_type": "code",
   "execution_count": 19,
   "id": "1f05a4c1",
   "metadata": {},
   "outputs": [],
   "source": [
    "def remove_stopwords_from_pos_tags(text):\n",
    "    # Tokenize the text into words\n",
    "    tokens = word_tokenize(text)\n",
    "    \n",
    "    # Perform POS tagging\n",
    "    pos_tags = nltk.pos_tag(tokens)\n",
    "    \n",
    "    # Get the set of English stopwords\n",
    "    stop_words = set(stopwords.words('english'))\n",
    "    \n",
    "    # Filter out stopwords based on their POS tags\n",
    "    filtered_pos_tags = [(word, pos) for word, pos in pos_tags if word.lower() not in stop_words]\n",
    "    \n",
    "    # Return the filtered words as a string (optional)\n",
    "    filtered_text = ' '.join(word for word, pos in filtered_pos_tags)\n",
    "    return filtered_text"
   ]
  },
  {
   "cell_type": "code",
   "execution_count": 20,
   "id": "d898efd6",
   "metadata": {},
   "outputs": [],
   "source": [
    "df['cleaned'] = df[\"reviews\"].apply(remove_stopwords_from_pos_tags)"
   ]
  },
  {
   "cell_type": "code",
   "execution_count": 21,
   "id": "078357ef",
   "metadata": {},
   "outputs": [
    {
     "data": {
      "text/plain": [
       "0      airline lives past glory heading future crisis...\n",
       "1      Check Desk rude dismissive Flight late seems n...\n",
       "2      chose British Airways especially going travel ...\n",
       "3      booked Premium Economy INV LAX via LHR notifie...\n",
       "4      simple story unfortunate outcome really could ...\n",
       "                             ...                        \n",
       "995    flew Los Angeles Leeds Bradford via Heathrow T...\n",
       "996    Brindisi London Flying airport includes Ryanai...\n",
       "997    Chicago London flown long haul many times BA V...\n",
       "998    Berlin London connecting flight complain fligh...\n",
       "999    British Airways favorite airline Boeing years ...\n",
       "Name: cleaned, Length: 1000, dtype: object"
      ]
     },
     "execution_count": 21,
     "metadata": {},
     "output_type": "execute_result"
    }
   ],
   "source": [
    "df['cleaned']"
   ]
  },
  {
   "cell_type": "code",
   "execution_count": 22,
   "id": "999e41a0",
   "metadata": {},
   "outputs": [],
   "source": [
    "def pos_tags(text):\n",
    "    text = pos_tag(word_tokenize(text))\n",
    "    return text"
   ]
  },
  {
   "cell_type": "code",
   "execution_count": 23,
   "id": "973df939",
   "metadata": {},
   "outputs": [],
   "source": [
    "df[\"pos_tags\"] = df['reviews'].apply(pos_tags)"
   ]
  },
  {
   "cell_type": "code",
   "execution_count": 24,
   "id": "7800ce79",
   "metadata": {},
   "outputs": [
    {
     "data": {
      "text/html": [
       "<div>\n",
       "<style scoped>\n",
       "    .dataframe tbody tr th:only-of-type {\n",
       "        vertical-align: middle;\n",
       "    }\n",
       "\n",
       "    .dataframe tbody tr th {\n",
       "        vertical-align: top;\n",
       "    }\n",
       "\n",
       "    .dataframe thead th {\n",
       "        text-align: right;\n",
       "    }\n",
       "</style>\n",
       "<table border=\"1\" class=\"dataframe\">\n",
       "  <thead>\n",
       "    <tr style=\"text-align: right;\">\n",
       "      <th></th>\n",
       "      <th>reviews</th>\n",
       "      <th>cleaned</th>\n",
       "      <th>pos_tags</th>\n",
       "    </tr>\n",
       "  </thead>\n",
       "  <tbody>\n",
       "    <tr>\n",
       "      <th>0</th>\n",
       "      <td>An airline that lives in their past glory and...</td>\n",
       "      <td>airline lives past glory heading future crisis...</td>\n",
       "      <td>[(An, DT), (airline, NN), (that, WDT), (lives,...</td>\n",
       "    </tr>\n",
       "    <tr>\n",
       "      <th>1</th>\n",
       "      <td>Check in Desk rude and dismissive Flight late...</td>\n",
       "      <td>Check Desk rude dismissive Flight late seems n...</td>\n",
       "      <td>[(Check, NNP), (in, IN), (Desk, NNP), (rude, N...</td>\n",
       "    </tr>\n",
       "    <tr>\n",
       "      <th>2</th>\n",
       "      <td>I chose British Airways especially because I ...</td>\n",
       "      <td>chose British Airways especially going travel ...</td>\n",
       "      <td>[(I, PRP), (chose, VBD), (British, JJ), (Airwa...</td>\n",
       "    </tr>\n",
       "    <tr>\n",
       "      <th>3</th>\n",
       "      <td>I booked Premium Economy from INV to LAX via ...</td>\n",
       "      <td>booked Premium Economy INV LAX via LHR notifie...</td>\n",
       "      <td>[(I, PRP), (booked, VBD), (Premium, NNP), (Eco...</td>\n",
       "    </tr>\n",
       "    <tr>\n",
       "      <th>4</th>\n",
       "      <td>A simple story with an unfortunate outcome th...</td>\n",
       "      <td>simple story unfortunate outcome really could ...</td>\n",
       "      <td>[(A, DT), (simple, JJ), (story, NN), (with, IN...</td>\n",
       "    </tr>\n",
       "  </tbody>\n",
       "</table>\n",
       "</div>"
      ],
      "text/plain": [
       "                                             reviews  \\\n",
       "0   An airline that lives in their past glory and...   \n",
       "1   Check in Desk rude and dismissive Flight late...   \n",
       "2   I chose British Airways especially because I ...   \n",
       "3   I booked Premium Economy from INV to LAX via ...   \n",
       "4   A simple story with an unfortunate outcome th...   \n",
       "\n",
       "                                             cleaned  \\\n",
       "0  airline lives past glory heading future crisis...   \n",
       "1  Check Desk rude dismissive Flight late seems n...   \n",
       "2  chose British Airways especially going travel ...   \n",
       "3  booked Premium Economy INV LAX via LHR notifie...   \n",
       "4  simple story unfortunate outcome really could ...   \n",
       "\n",
       "                                            pos_tags  \n",
       "0  [(An, DT), (airline, NN), (that, WDT), (lives,...  \n",
       "1  [(Check, NNP), (in, IN), (Desk, NNP), (rude, N...  \n",
       "2  [(I, PRP), (chose, VBD), (British, JJ), (Airwa...  \n",
       "3  [(I, PRP), (booked, VBD), (Premium, NNP), (Eco...  \n",
       "4  [(A, DT), (simple, JJ), (story, NN), (with, IN...  "
      ]
     },
     "execution_count": 24,
     "metadata": {},
     "output_type": "execute_result"
    }
   ],
   "source": [
    "df.head()"
   ]
  },
  {
   "cell_type": "code",
   "execution_count": 25,
   "id": "477bcf7e",
   "metadata": {},
   "outputs": [
    {
     "name": "stdout",
     "output_type": "stream",
     "text": [
      "Requirement already satisfied: vaderSentiment in c:\\users\\sansk\\anaconda3\\lib\\site-packages (3.3.2)\n",
      "Requirement already satisfied: requests in c:\\users\\sansk\\anaconda3\\lib\\site-packages (from vaderSentiment) (2.27.1)\n",
      "Requirement already satisfied: idna<4,>=2.5 in c:\\users\\sansk\\anaconda3\\lib\\site-packages (from requests->vaderSentiment) (3.3)\n",
      "Requirement already satisfied: urllib3<1.27,>=1.21.1 in c:\\users\\sansk\\anaconda3\\lib\\site-packages (from requests->vaderSentiment) (1.26.9)\n",
      "Requirement already satisfied: charset-normalizer~=2.0.0 in c:\\users\\sansk\\anaconda3\\lib\\site-packages (from requests->vaderSentiment) (2.0.4)\n",
      "Requirement already satisfied: certifi>=2017.4.17 in c:\\users\\sansk\\anaconda3\\lib\\site-packages (from requests->vaderSentiment) (2021.10.8)\n"
     ]
    }
   ],
   "source": [
    "!pip install vaderSentiment"
   ]
  },
  {
   "cell_type": "code",
   "execution_count": 26,
   "id": "0361d8d4",
   "metadata": {},
   "outputs": [],
   "source": [
    "from vaderSentiment.vaderSentiment import SentimentIntensityAnalyzer\n",
    "analyzer = SentimentIntensityAnalyzer()\n",
    "\n"
   ]
  },
  {
   "cell_type": "code",
   "execution_count": 27,
   "id": "6d5150fc",
   "metadata": {},
   "outputs": [
    {
     "data": {
      "text/plain": [
       "{'neg': 0.18, 'neu': 0.752, 'pos': 0.069, 'compound': -0.5267}"
      ]
     },
     "execution_count": 27,
     "metadata": {},
     "output_type": "execute_result"
    }
   ],
   "source": [
    "analyzer.polarity_scores(df['cleaned'][1])\n"
   ]
  },
  {
   "cell_type": "code",
   "execution_count": 28,
   "id": "fd3e6644",
   "metadata": {},
   "outputs": [
    {
     "data": {
      "text/plain": [
       "{'neg': 0.292, 'neu': 0.557, 'pos': 0.15, 'compound': -0.7269}"
      ]
     },
     "execution_count": 28,
     "metadata": {},
     "output_type": "execute_result"
    }
   ],
   "source": [
    "analyzer.polarity_scores(df['cleaned'][0])\n"
   ]
  },
  {
   "cell_type": "code",
   "execution_count": 29,
   "id": "216ff7bc",
   "metadata": {},
   "outputs": [
    {
     "data": {
      "text/plain": [
       "{'neg': 0.13, 'neu': 0.808, 'pos': 0.063, 'compound': -0.7269}"
      ]
     },
     "execution_count": 29,
     "metadata": {},
     "output_type": "execute_result"
    }
   ],
   "source": [
    "analyzer.polarity_scores(df['cleaned'][3])"
   ]
  },
  {
   "cell_type": "code",
   "execution_count": 30,
   "id": "c63ab835",
   "metadata": {},
   "outputs": [],
   "source": [
    "df['comp_score'] = df.apply(lambda x:analyzer.polarity_scores(x['cleaned'])['compound'],axis = 1)"
   ]
  },
  {
   "cell_type": "code",
   "execution_count": 31,
   "id": "cb97331a",
   "metadata": {},
   "outputs": [
    {
     "data": {
      "text/html": [
       "<div>\n",
       "<style scoped>\n",
       "    .dataframe tbody tr th:only-of-type {\n",
       "        vertical-align: middle;\n",
       "    }\n",
       "\n",
       "    .dataframe tbody tr th {\n",
       "        vertical-align: top;\n",
       "    }\n",
       "\n",
       "    .dataframe thead th {\n",
       "        text-align: right;\n",
       "    }\n",
       "</style>\n",
       "<table border=\"1\" class=\"dataframe\">\n",
       "  <thead>\n",
       "    <tr style=\"text-align: right;\">\n",
       "      <th></th>\n",
       "      <th>reviews</th>\n",
       "      <th>cleaned</th>\n",
       "      <th>pos_tags</th>\n",
       "      <th>comp_score</th>\n",
       "    </tr>\n",
       "  </thead>\n",
       "  <tbody>\n",
       "    <tr>\n",
       "      <th>0</th>\n",
       "      <td>An airline that lives in their past glory and...</td>\n",
       "      <td>airline lives past glory heading future crisis...</td>\n",
       "      <td>[(An, DT), (airline, NN), (that, WDT), (lives,...</td>\n",
       "      <td>-0.7269</td>\n",
       "    </tr>\n",
       "    <tr>\n",
       "      <th>1</th>\n",
       "      <td>Check in Desk rude and dismissive Flight late...</td>\n",
       "      <td>Check Desk rude dismissive Flight late seems n...</td>\n",
       "      <td>[(Check, NNP), (in, IN), (Desk, NNP), (rude, N...</td>\n",
       "      <td>-0.5267</td>\n",
       "    </tr>\n",
       "    <tr>\n",
       "      <th>2</th>\n",
       "      <td>I chose British Airways especially because I ...</td>\n",
       "      <td>chose British Airways especially going travel ...</td>\n",
       "      <td>[(I, PRP), (chose, VBD), (British, JJ), (Airwa...</td>\n",
       "      <td>-0.8126</td>\n",
       "    </tr>\n",
       "    <tr>\n",
       "      <th>3</th>\n",
       "      <td>I booked Premium Economy from INV to LAX via ...</td>\n",
       "      <td>booked Premium Economy INV LAX via LHR notifie...</td>\n",
       "      <td>[(I, PRP), (booked, VBD), (Premium, NNP), (Eco...</td>\n",
       "      <td>-0.7269</td>\n",
       "    </tr>\n",
       "    <tr>\n",
       "      <th>4</th>\n",
       "      <td>A simple story with an unfortunate outcome th...</td>\n",
       "      <td>simple story unfortunate outcome really could ...</td>\n",
       "      <td>[(A, DT), (simple, JJ), (story, NN), (with, IN...</td>\n",
       "      <td>0.8107</td>\n",
       "    </tr>\n",
       "  </tbody>\n",
       "</table>\n",
       "</div>"
      ],
      "text/plain": [
       "                                             reviews  \\\n",
       "0   An airline that lives in their past glory and...   \n",
       "1   Check in Desk rude and dismissive Flight late...   \n",
       "2   I chose British Airways especially because I ...   \n",
       "3   I booked Premium Economy from INV to LAX via ...   \n",
       "4   A simple story with an unfortunate outcome th...   \n",
       "\n",
       "                                             cleaned  \\\n",
       "0  airline lives past glory heading future crisis...   \n",
       "1  Check Desk rude dismissive Flight late seems n...   \n",
       "2  chose British Airways especially going travel ...   \n",
       "3  booked Premium Economy INV LAX via LHR notifie...   \n",
       "4  simple story unfortunate outcome really could ...   \n",
       "\n",
       "                                            pos_tags  comp_score  \n",
       "0  [(An, DT), (airline, NN), (that, WDT), (lives,...     -0.7269  \n",
       "1  [(Check, NNP), (in, IN), (Desk, NNP), (rude, N...     -0.5267  \n",
       "2  [(I, PRP), (chose, VBD), (British, JJ), (Airwa...     -0.8126  \n",
       "3  [(I, PRP), (booked, VBD), (Premium, NNP), (Eco...     -0.7269  \n",
       "4  [(A, DT), (simple, JJ), (story, NN), (with, IN...      0.8107  "
      ]
     },
     "execution_count": 31,
     "metadata": {},
     "output_type": "execute_result"
    }
   ],
   "source": [
    "df.head()"
   ]
  },
  {
   "cell_type": "code",
   "execution_count": 34,
   "id": "21d1d41b",
   "metadata": {},
   "outputs": [],
   "source": [
    "df['sentiment'] = df.apply(lambda x: sentiment(x[\"comp_score\"]),axis = 1)"
   ]
  },
  {
   "cell_type": "code",
   "execution_count": 33,
   "id": "5ef7c23f",
   "metadata": {},
   "outputs": [],
   "source": [
    "def sentiment(score):\n",
    "    if score > 0.5:\n",
    "        return \"positive\"\n",
    "    elif score < 0:\n",
    "        return \"negative\"\n",
    "    else:\n",
    "        return  \"neutral\"\n",
    "       "
   ]
  },
  {
   "cell_type": "code",
   "execution_count": 35,
   "id": "da4f1a6a",
   "metadata": {},
   "outputs": [
    {
     "data": {
      "text/html": [
       "<div>\n",
       "<style scoped>\n",
       "    .dataframe tbody tr th:only-of-type {\n",
       "        vertical-align: middle;\n",
       "    }\n",
       "\n",
       "    .dataframe tbody tr th {\n",
       "        vertical-align: top;\n",
       "    }\n",
       "\n",
       "    .dataframe thead th {\n",
       "        text-align: right;\n",
       "    }\n",
       "</style>\n",
       "<table border=\"1\" class=\"dataframe\">\n",
       "  <thead>\n",
       "    <tr style=\"text-align: right;\">\n",
       "      <th></th>\n",
       "      <th>reviews</th>\n",
       "      <th>cleaned</th>\n",
       "      <th>pos_tags</th>\n",
       "      <th>comp_score</th>\n",
       "      <th>sentiment</th>\n",
       "    </tr>\n",
       "  </thead>\n",
       "  <tbody>\n",
       "    <tr>\n",
       "      <th>0</th>\n",
       "      <td>An airline that lives in their past glory and...</td>\n",
       "      <td>airline lives past glory heading future crisis...</td>\n",
       "      <td>[(An, DT), (airline, NN), (that, WDT), (lives,...</td>\n",
       "      <td>-0.7269</td>\n",
       "      <td>negative</td>\n",
       "    </tr>\n",
       "    <tr>\n",
       "      <th>1</th>\n",
       "      <td>Check in Desk rude and dismissive Flight late...</td>\n",
       "      <td>Check Desk rude dismissive Flight late seems n...</td>\n",
       "      <td>[(Check, NNP), (in, IN), (Desk, NNP), (rude, N...</td>\n",
       "      <td>-0.5267</td>\n",
       "      <td>negative</td>\n",
       "    </tr>\n",
       "    <tr>\n",
       "      <th>2</th>\n",
       "      <td>I chose British Airways especially because I ...</td>\n",
       "      <td>chose British Airways especially going travel ...</td>\n",
       "      <td>[(I, PRP), (chose, VBD), (British, JJ), (Airwa...</td>\n",
       "      <td>-0.8126</td>\n",
       "      <td>negative</td>\n",
       "    </tr>\n",
       "    <tr>\n",
       "      <th>3</th>\n",
       "      <td>I booked Premium Economy from INV to LAX via ...</td>\n",
       "      <td>booked Premium Economy INV LAX via LHR notifie...</td>\n",
       "      <td>[(I, PRP), (booked, VBD), (Premium, NNP), (Eco...</td>\n",
       "      <td>-0.7269</td>\n",
       "      <td>negative</td>\n",
       "    </tr>\n",
       "    <tr>\n",
       "      <th>4</th>\n",
       "      <td>A simple story with an unfortunate outcome th...</td>\n",
       "      <td>simple story unfortunate outcome really could ...</td>\n",
       "      <td>[(A, DT), (simple, JJ), (story, NN), (with, IN...</td>\n",
       "      <td>0.8107</td>\n",
       "      <td>positive</td>\n",
       "    </tr>\n",
       "  </tbody>\n",
       "</table>\n",
       "</div>"
      ],
      "text/plain": [
       "                                             reviews  \\\n",
       "0   An airline that lives in their past glory and...   \n",
       "1   Check in Desk rude and dismissive Flight late...   \n",
       "2   I chose British Airways especially because I ...   \n",
       "3   I booked Premium Economy from INV to LAX via ...   \n",
       "4   A simple story with an unfortunate outcome th...   \n",
       "\n",
       "                                             cleaned  \\\n",
       "0  airline lives past glory heading future crisis...   \n",
       "1  Check Desk rude dismissive Flight late seems n...   \n",
       "2  chose British Airways especially going travel ...   \n",
       "3  booked Premium Economy INV LAX via LHR notifie...   \n",
       "4  simple story unfortunate outcome really could ...   \n",
       "\n",
       "                                            pos_tags  comp_score sentiment  \n",
       "0  [(An, DT), (airline, NN), (that, WDT), (lives,...     -0.7269  negative  \n",
       "1  [(Check, NNP), (in, IN), (Desk, NNP), (rude, N...     -0.5267  negative  \n",
       "2  [(I, PRP), (chose, VBD), (British, JJ), (Airwa...     -0.8126  negative  \n",
       "3  [(I, PRP), (booked, VBD), (Premium, NNP), (Eco...     -0.7269  negative  \n",
       "4  [(A, DT), (simple, JJ), (story, NN), (with, IN...      0.8107  positive  "
      ]
     },
     "execution_count": 35,
     "metadata": {},
     "output_type": "execute_result"
    }
   ],
   "source": [
    "df.head()"
   ]
  },
  {
   "cell_type": "code",
   "execution_count": 36,
   "id": "54860594",
   "metadata": {},
   "outputs": [
    {
     "data": {
      "text/plain": [
       "positive    488\n",
       "negative    399\n",
       "neutral     113\n",
       "Name: sentiment, dtype: int64"
      ]
     },
     "execution_count": 36,
     "metadata": {},
     "output_type": "execute_result"
    }
   ],
   "source": [
    "df['sentiment'].value_counts()"
   ]
  },
  {
   "cell_type": "code",
   "execution_count": 117,
   "id": "6c1a9926",
   "metadata": {},
   "outputs": [],
   "source": [
    "import matplotlib.pyplot as plt"
   ]
  },
  {
   "cell_type": "code",
   "execution_count": 120,
   "id": "4480c320",
   "metadata": {},
   "outputs": [
    {
     "data": {
      "text/plain": [
       "<AxesSubplot:ylabel='sentiment'>"
      ]
     },
     "execution_count": 120,
     "metadata": {},
     "output_type": "execute_result"
    },
    {
     "data": {
      "image/png": "[encoded data removed]",
      "text/plain": [
       "<Figure size 432x288 with 1 Axes>"
      ]
     },
     "metadata": {},
     "output_type": "display_data"
    }
   ],
   "source": [
    "df[\"sentiment\"].value_counts().plot(kind = 'pie')"
   ]
  },
  {
   "cell_type": "code",
   "execution_count": 122,
   "id": "3e4b0fcb",
   "metadata": {},
   "outputs": [
    {
     "data": {
      "text/plain": [
       "([<matplotlib.patches.Wedge at 0x25a84f7ae80>,\n",
       "  <matplotlib.patches.Wedge at 0x25a84f85520>,\n",
       "  <matplotlib.patches.Wedge at 0x25a84f85c40>],\n",
       " [Text(0.031097634977506766, 1.0995603380891865, 'positive'),\n",
       "  Text(-0.4145580984795792, -1.018892331399641, 'negative'),\n",
       "  Text(1.2643423691745355, -0.47322127330681485, 'neutral')],\n",
       " [Text(0.016962346351367324, 0.5997601844122834, '49.1%'),\n",
       "  Text(-0.2261225991706795, -0.5557594534907132, '39.5%'),\n",
       "  Text(0.7960674176284112, -0.29795413504503154, '11.4%')])"
      ]
     },
     "execution_count": 122,
     "metadata": {},
     "output_type": "execute_result"
    },
    {
     "data": {
      "image/png": "[encoded data removed]",
      "text/plain": [
       "<Figure size 1080x504 with 1 Axes>"
      ]
     },
     "metadata": {},
     "output_type": "display_data"
    }
   ],
   "source": [
    "\n",
    "import matplotlib.pyplot as plt\n",
    "%matplotlib inline\n",
    "plt.figure(figsize=(15,7))\n",
    "\n",
    "plt.subplot(1,3,2)\n",
    "plt.title(\"Reviews Analysis\")\n",
    "plt.pie(df[\"sentiment\"].value_counts().values, labels = df[\"sentiment\"].value_counts().index, explode = (0, 0, 0.25), autopct='%1.1f%%', shadow=False)"
   ]
  },
  {
   "cell_type": "code",
   "execution_count": null,
   "id": "3133293f",
   "metadata": {},
   "outputs": [],
   "source": []
  }
 ],
 "metadata": {
  "kernelspec": {
   "display_name": "Python 3 (ipykernel)",
   "language": "python",
   "name": "python3"
  },
  "language_info": {
   "codemirror_mode": {
    "name": "ipython",
    "version": 3
   },
   "file_extension": ".py",
   "mimetype": "text/x-python",
   "name": "python",
   "nbconvert_exporter": "python",
   "pygments_lexer": "ipython3",
   "version": "3.9.12"
  }
 },
 "nbformat": 4,
 "nbformat_minor": 5
}
